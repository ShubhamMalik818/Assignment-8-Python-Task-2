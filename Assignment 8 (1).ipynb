{
 "cells": [
  {
   "cell_type": "code",
   "execution_count": null,
   "id": "dd49c4ea-b2eb-4a81-a0f5-071247ee0606",
   "metadata": {},
   "outputs": [],
   "source": [
    "Q1. You are writing code for a company. The requirement of the company is that you create a python\n",
    "function that will check whether the password entered by the user is correct or not. The function should\n",
    "take the password as input and return the string “Valid Password” if the entered password follows the\n",
    "below-given password guidelines else it should return “Invalid Password”.\n",
    "Note: \n",
    "1. The Password should contain at least two uppercase letters and at least two lowercase letters.\n",
    "2. The Password should contain at least a number and three special characters.\n",
    "3. The length of the password should be 10 characters long."
   ]
  },
  {
   "cell_type": "code",
   "execution_count": 20,
   "id": "d2af1cc9-bca5-494f-9a1d-cfc73429ac9d",
   "metadata": {},
   "outputs": [
    {
     "name": "stdin",
     "output_type": "stream",
     "text": [
      "Enter the password  ASdf@#$123\n"
     ]
    },
    {
     "name": "stdout",
     "output_type": "stream",
     "text": [
      "Valid Password\n"
     ]
    }
   ],
   "source": [
    "def validate_password(password):\n",
    "    \"\"\"\n",
    "    Checks whether the given password meets the requirements.\n",
    "\n",
    "    Args:\n",
    "        password (str): The password to check.\n",
    "\n",
    "    Returns:\n",
    "        str: 'Valid Password' if the password meets the requirements, 'Invalid Password' otherwise.\n",
    "    \"\"\"\n",
    "\n",
    "    # Check length of password\n",
    "    if len(password) != 10:\n",
    "        return 'Invalid Password'\n",
    "\n",
    "    # Check for at least two uppercase letters\n",
    "    if sum(1 for c in password if c.isupper()) < 2:\n",
    "        return 'Invalid Password'\n",
    "\n",
    "    # Check for at least two lowercase letters\n",
    "    if sum(1 for c in password if c.islower()) < 2:\n",
    "        return 'Invalid Password'\n",
    "\n",
    "    # Check for at least one digit\n",
    "    if not any(c.isdigit() for c in password):\n",
    "        return 'Invalid Password'\n",
    "\n",
    "    # Check for at least three special characters\n",
    "    special_chars = \"!@#$%^&*()_+-=\"\n",
    "    if sum(1 for c in password if c in special_chars) < 3:\n",
    "        return 'Invalid Password'\n",
    "\n",
    "    # If all checks pass, return 'Valid Password'\n",
    "    return 'Valid Password'\n",
    "\n",
    "\n",
    "\n",
    "enter_password = input('Enter the password ')\n",
    "result = validate_password(enter_password)\n",
    "print(result)\n"
   ]
  },
  {
   "cell_type": "code",
   "execution_count": null,
   "id": "531e877f-db71-4414-8565-1068387942fa",
   "metadata": {},
   "outputs": [],
   "source": [
    "Q2. Solve the below-given questions using at least one of the following:\n",
    "1. Lambda function\n",
    "2. Filter function\n",
    "3. Map function\n",
    "4. List Comprehension\n",
    "\n",
    "1.Check if the string starts with a particular letter\n",
    "2.Check if the string is numeric\n",
    "3.Sort a list of tuples having fruit names and their quantity. [(\"mango\",99),(\"orange\",80), (\"grapes\", 1000)]\n",
    "4.Find the squares of numbers from 1 to 10\n",
    "5.Find the cube root of numbers from 1 to 10\n",
    "6.Check if a given number is even\n",
    "7.Filter odd numbers from the given list.\n",
    "[1,2,3,4,5,6,7,8,9,10]\n",
    "8.Sort a list of integers into positive and negative integers lists.\n",
    "[1,2,3,4,5,6,-1,-2,-3,-4,-5,0]\n"
   ]
  },
  {
   "cell_type": "code",
   "execution_count": 22,
   "id": "d5b460f7-580a-4e8c-8b18-dbceea441fb9",
   "metadata": {},
   "outputs": [
    {
     "name": "stdout",
     "output_type": "stream",
     "text": [
      "False\n",
      "True\n",
      "['apple', 'apricot', 'avocado']\n",
      "['banana']\n"
     ]
    }
   ],
   "source": [
    "#1.Check if the string starts with a particular letter\n",
    "\n",
    "#By lambda function\n",
    "\n",
    "starts_with_a = lambda s: s.startswith('a')\n",
    "\n",
    "print(starts_with_a('cake'))  \n",
    "print(starts_with_a('acer')) \n",
    "\n",
    "#By filter function\n",
    "\n",
    "words = ['apple', 'banana', 'apricot', 'kiwi', 'avocado']\n",
    "\n",
    "starts_with_a = list(filter(lambda s: s.startswith('a'), words))\n",
    "\n",
    "print(starts_with_a)  \n",
    "\n",
    "#By Map function\n",
    "\n",
    "strings = ['apple', 'banana', 'cherry', 'durian']\n",
    "letter = 'b'\n",
    "\n",
    "starts_with_b = [s for s in strings if s.startswith(letter)]\n",
    "print(starts_with_b)\n",
    "\n",
    "\n"
   ]
  },
  {
   "cell_type": "code",
   "execution_count": 21,
   "id": "b1390d90-52c9-432c-a630-43737844c6e3",
   "metadata": {},
   "outputs": [
    {
     "name": "stdout",
     "output_type": "stream",
     "text": [
      "True\n",
      "False\n",
      "False\n",
      "['123', '456']\n",
      "[True, False, False]\n",
      "False\n"
     ]
    }
   ],
   "source": [
    "#2.Check if the string is numeric\n",
    "\n",
    "#By lambda function\n",
    "\n",
    "is_numeric = lambda s: s.isdigit()\n",
    "\n",
    "print(is_numeric('123'))  \n",
    "print(is_numeric('1.23'))  \n",
    "print(is_numeric('abc'))  \n",
    "\n",
    "#By filter function\n",
    "\n",
    "strings = ['123', '1.23', 'abc', '456', '78.9']\n",
    "\n",
    "numeric_strings = list(filter(lambda s: s.isdigit(), strings))\n",
    "\n",
    "print(numeric_strings)\n",
    "\n",
    "#By Map function\n",
    "\n",
    "s = ['123', '1.23', 'abc']\n",
    "\n",
    "numeric = list(map(lambda s: s.isdigit(), s))\n",
    "\n",
    "print(numeric) \n",
    "\n",
    "#By List comprehension\n",
    "\n",
    "s = ['123', '1.23', 'abc', '456']\n",
    "is_numeric = all([s.isdigit() for s in strings])\n",
    "\n",
    "print(is_numeric) \n"
   ]
  },
  {
   "cell_type": "code",
   "execution_count": 25,
   "id": "1c4d870d-46e6-4705-aeae-41f33ef772ac",
   "metadata": {},
   "outputs": [
    {
     "name": "stdout",
     "output_type": "stream",
     "text": [
      "[('orange', 80), ('mango', 99), ('grapes', 1000)]\n",
      "['orange', 'mango', 'grapes']\n"
     ]
    }
   ],
   "source": [
    "#3.Sort a list of tuples having fruit names and their quantity. [(\"mango\",99),(\"orange\",80), (\"grapes\", 1000)]\n",
    "\n",
    "#By Lambda function\n",
    "\n",
    "fruits = [(\"mango\",99),(\"orange\",80), (\"grapes\", 1000)]\n",
    "sorted_fruits = sorted(fruits, key=lambda x: x[1])\n",
    "print(sorted_fruits)\n",
    "\n",
    "#By Map function\n",
    "\n",
    "fruits = [(\"mango\", 99), (\"orange\", 80), (\"grapes\", 1000)]\n",
    "\n",
    "sorted_fruits = list(map(lambda x: x[0], sorted(fruits, key=lambda x: x[1])))\n",
    "\n",
    "print(sorted_fruits)\n",
    "\n",
    "\n"
   ]
  },
  {
   "cell_type": "code",
   "execution_count": 28,
   "id": "0870af33-d376-4a84-9058-09ea334a09e4",
   "metadata": {},
   "outputs": [
    {
     "name": "stdout",
     "output_type": "stream",
     "text": [
      "[1, 4, 9, 16, 25, 36, 49, 64, 81, 100]\n",
      "[1, 4, 9, 16, 25, 36, 49, 64, 81, 100]\n",
      "[1, 4, 9, 16, 25, 36, 49, 64, 81, 100]\n"
     ]
    }
   ],
   "source": [
    "#4.Find the squares of numbers from 1 to 10\n",
    "\n",
    "#By Lambda function\n",
    "\n",
    "squares = list(map(lambda x: x**2, range(1,11)))\n",
    "print(squares)\n",
    "\n",
    "#By Map function\n",
    "\n",
    "squares = list(map(lambda x: x**2, range(1, 11)))\n",
    "print(squares)\n",
    "\n",
    "#By List comprehension\n",
    "\n",
    "squares = [x**2 for x in range(1, 11)]\n",
    "print(squares)\n",
    "\n",
    "\n"
   ]
  },
  {
   "cell_type": "code",
   "execution_count": 33,
   "id": "d4f8a161-dd42-425c-b3c7-4cb7c324c45b",
   "metadata": {},
   "outputs": [
    {
     "name": "stdout",
     "output_type": "stream",
     "text": [
      "[1.0, 1.2599210498948732, 1.4422495703074083, 1.5874010519681994, 1.7099759466766968, 1.8171205928321397, 1.912931182772389, 2.0, 2.080083823051904, 2.154434690031884]\n",
      "[1, 8]\n",
      "[1.0, 1.26, 1.44, 1.59, 1.71, 1.82, 1.91, 2.0, 2.08, 2.15]\n",
      "[1.0, 1.2599210498948732, 1.4422495703074083, 1.5874010519681994, 1.7099759466766968, 1.8171205928321397, 1.912931182772389, 2.0, 2.080083823051904, 2.154434690031884]\n"
     ]
    }
   ],
   "source": [
    "#5.Find the cube root of numbers from 1 to 10\n",
    "\n",
    "#By Lambda function\n",
    "\n",
    "cube_root = lambda x: x**(1/3)\n",
    "cube_roots = [cube_root(x) for x in range(1, 11)]\n",
    "print(cube_roots)\n",
    "\n",
    "#By Filter function\n",
    "\n",
    "# Create a list of numbers from 1 to 10\n",
    "numbers = list(range(1, 11))\n",
    "\n",
    "# Use filter() and lambda function to find cube roots that are integers\n",
    "cube_roots = filter(lambda x: (x**(1/3)).is_integer(), numbers)\n",
    "\n",
    "# Convert the filter object to a list and print the result\n",
    "print(list(cube_roots))\n",
    "\n",
    "\n",
    "#By Map function\n",
    "\n",
    "import math\n",
    "\n",
    "cube_roots = list(map(lambda x: round(math.pow(x, 1/3), 2), range(1, 11)))\n",
    "print(cube_roots)\n",
    "\n",
    "#By List comprehension\n",
    "\n",
    "cube_roots = [x**(1/3) for x in range(1, 11)]\n",
    "print(cube_roots)\n",
    "\n",
    "\n",
    "\n",
    "\n"
   ]
  },
  {
   "cell_type": "code",
   "execution_count": 40,
   "id": "fc787091-0ad1-4bd9-bfba-2f93dabcb45f",
   "metadata": {},
   "outputs": [
    {
     "name": "stdout",
     "output_type": "stream",
     "text": [
      "True\n",
      "False\n",
      "7 is odd\n",
      "[False, True, False, True, False, True, False, True, False, True]\n",
      "[True]\n"
     ]
    }
   ],
   "source": [
    "#6.Check if a given number is even\n",
    "\n",
    "#By Lambda Function\n",
    "\n",
    "is_even = lambda num: num % 2 == 0\n",
    "\n",
    "print(is_even(10)) \n",
    "print(is_even(7)) \n",
    "\n",
    "#By Filter function\n",
    "\n",
    "# Define a function to check if a number is even\n",
    "def is_even(num):\n",
    "    return num % 2 == 0\n",
    "\n",
    "# Use filter to get even numbers from a list\n",
    "numbers = [1, 2, 3, 4, 5, 6, 7, 8, 9, 10]\n",
    "even_numbers = list(filter(is_even, numbers))\n",
    "\n",
    "# Test if a number is even\n",
    "test_num = 7\n",
    "if is_even(test_num):\n",
    "    print(f\"{test_num} is even\")\n",
    "else:\n",
    "    print(f\"{test_num} is odd\")\n",
    "\n",
    "    \n",
    "#By Map function\n",
    "\n",
    "s = [1, 2, 3, 4, 5, 6, 7, 8, 9, 10]\n",
    "is_even = list(map(lambda x: x % 2 == 0, s))\n",
    "print(is_even) \n",
    "\n",
    "\n",
    "#By List comprehension\n",
    "\n",
    "num = 8\n",
    "is_even = [True if num % 2 == 0 else False]\n",
    "print(is_even) \n",
    "\n",
    "\n",
    "\n"
   ]
  },
  {
   "cell_type": "code",
   "execution_count": 46,
   "id": "7267833e-4d34-4a01-9f02-12c2cb35df0b",
   "metadata": {},
   "outputs": [
    {
     "name": "stdout",
     "output_type": "stream",
     "text": [
      "[1, 3, 5, 7, 9]\n",
      "[1, 3, 5, 7, 9]\n",
      "[1, 3, 5, 7, 9]\n",
      "[1, 3, 5, 7, 9]\n"
     ]
    }
   ],
   "source": [
    "#7.Filter odd numbers from the given list.\n",
    "[1,2,3,4,5,6,7,8,9,10]\n",
    "\n",
    "#By Lambda function\n",
    "\n",
    "s = [1, 2, 3, 4, 5, 6, 7, 8, 9, 10]\n",
    "\n",
    "result = list(filter(lambda x: x%2 != 0, s))\n",
    "\n",
    "print(result)\n",
    "\n",
    "#By Filter function\n",
    "\n",
    "s = [1, 2, 3, 4, 5, 6, 7, 8, 9, 10]\n",
    "odd_list = list(filter(lambda x: x % 2 != 0, s))\n",
    "print(odd_list)\n",
    "\n",
    "#By Map function\n",
    "\n",
    "s = [1, 2, 3, 4, 5, 6, 7, 8, 9, 10]\n",
    "result = list(filter(lambda x: x % 2 != 0, s))\n",
    "print(result)\n",
    "\n",
    "#By list comprehension\n",
    "\n",
    "s = [1,2,3,4,5,6,7,8,9,10]\n",
    "odd_nums = [s for s in s if s % 2 != 0]\n",
    "print(odd_nums)\n",
    "\n",
    "\n"
   ]
  },
  {
   "cell_type": "code",
   "execution_count": 49,
   "id": "a5ea5b5f-dda7-4e94-8436-a86168c848da",
   "metadata": {},
   "outputs": [
    {
     "name": "stdout",
     "output_type": "stream",
     "text": [
      "Positive numbers: [1, 2, 3, 4, 5, 6]\n",
      "Negative numbers: [-5, -4, -3, -2, -1]\n",
      "Positive Numbers: [1, 2, 3, 4, 5, 6]\n",
      "Negative Numbers: [-1, -2, -3, -4, -5]\n"
     ]
    }
   ],
   "source": [
    "#8.Sort a list of integers into positive and negative integers lists.\n",
    "[1,2,3,4,5,6,-1,-2,-3,-4,-5,0]\n",
    "\n",
    "#By Lambda function\n",
    "\n",
    "s = [1, 2, 3, 4, 5, 6, -1, -2, -3, -4, -5, 0]\n",
    "\n",
    "positive_numbers = sorted(filter(lambda x: x > 0, s))\n",
    "negative_numbers = sorted(filter(lambda x: x < 0, s))\n",
    "\n",
    "print(\"Positive numbers:\", positive_numbers)\n",
    "print(\"Negative numbers:\", negative_numbers)\n",
    "\n",
    "#By List comprehension\n",
    "\n",
    "s = [1,2,3,4,5,6,-1,-2,-3,-4,-5,0]\n",
    "\n",
    "positive_numbers = list(filter(lambda x: x > 0, s))\n",
    "negative_numbers = list(filter(lambda x: x < 0, s))\n",
    "\n",
    "print(\"Positive Numbers:\", positive_numbers)\n",
    "print(\"Negative Numbers:\", negative_numbers)\n",
    "\n",
    "\n",
    "\n"
   ]
  }
 ],
 "metadata": {
  "kernelspec": {
   "display_name": "Python 3 (ipykernel)",
   "language": "python",
   "name": "python3"
  },
  "language_info": {
   "codemirror_mode": {
    "name": "ipython",
    "version": 3
   },
   "file_extension": ".py",
   "mimetype": "text/x-python",
   "name": "python",
   "nbconvert_exporter": "python",
   "pygments_lexer": "ipython3",
   "version": "3.10.8"
  }
 },
 "nbformat": 4,
 "nbformat_minor": 5
}
